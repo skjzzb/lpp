{
 "cells": [
  {
   "cell_type": "code",
   "execution_count": 1,
   "metadata": {},
   "outputs": [
    {
     "name": "stdout",
     "output_type": "stream",
     "text": [
      "Enter b\n",
      "10\n"
     ]
    }
   ],
   "source": [
    "print(\"Enter b\")\n",
    "b=int(input())"
   ]
  },
  {
   "cell_type": "code",
   "execution_count": null,
   "metadata": {
    "collapsed": true
   },
   "outputs": [],
   "source": [
    "import socket\n",
    "\n",
    "s=socket.socket(socket.AF_INET,socket.SOCK_STREAM)\n",
    "\n",
    "s.connect(('127.0.0.1',9001))\n",
    "\n",
    "A=int(s.recv(1024))\n",
    "\n",
    "print(\"Value of A is \",A)\n",
    "\n",
    "B=b*G\n",
    "\n",
    "s.send(bytearray(str(B).encode('utf8')))\n",
    "\n",
    "\n",
    "c1=int(s.recv(1024))\n",
    "\n",
    "c2=int(s.recv(1024))\n",
    "\n",
    "print(\"Value of c1 is \",c1)\n",
    "print(\"Value of c2 is \",c2)\n",
    "\n",
    "decrypt1=c1*b\n",
    "finaldecrypt=c2-decrypt\n",
    "\n",
    "print(\"The final decypyted message is \",finaldecrypt)\n",
    "\n",
    "\n",
    "\n",
    "\n"
   ]
  }
 ],
 "metadata": {
  "kernelspec": {
   "display_name": "Python 3",
   "language": "python",
   "name": "python3"
  },
  "language_info": {
   "codemirror_mode": {
    "name": "ipython",
    "version": 3
   },
   "file_extension": ".py",
   "mimetype": "text/x-python",
   "name": "python",
   "nbconvert_exporter": "python",
   "pygments_lexer": "ipython3",
   "version": "3.6.3"
  }
 },
 "nbformat": 4,
 "nbformat_minor": 2
}
