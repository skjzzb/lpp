{
 "cells": [
  {
   "cell_type": "code",
   "execution_count": 1,
   "metadata": {
    "collapsed": true
   },
   "outputs": [],
   "source": [
    "import socket\n",
    "b=11"
   ]
  },
  {
   "cell_type": "code",
   "execution_count": 4,
   "metadata": {},
   "outputs": [
    {
     "name": "stdout",
     "output_type": "stream",
     "text": [
      "The value of p is  29\n",
      "The value of q is  23\n",
      "The value of B is  25\n",
      "The value of A is  24\n",
      "The value of shared key  is  7\n"
     ]
    }
   ],
   "source": [
    "s=socket.socket(socket.AF_INET,socket.SOCK_STREAM)\n",
    "\n",
    "s.connect(('127.0.0.1',4210))\n",
    "\n",
    "p=int((s.recv(1024)))\n",
    "q=int((s.recv(1024)))\n",
    "print(\"The value of p is \",p)\n",
    "\n",
    "print(\"The value of q is \",q)\n",
    "\n",
    "B=(q**b)%p\n",
    "s.send(str(B).encode('utf8'))\n",
    "\n",
    "print(\"The value of B is \",B)\n",
    "\n",
    "A=int(s.recv(1024))\n",
    "\n",
    "print(\"The value of A is \",A)\n",
    "\n",
    "k2=(A**b)%p\n",
    "\n",
    "print(\"The value of shared key  is \",k2)\n",
    "\n",
    "\n",
    "s.close()\n"
   ]
  },
  {
   "cell_type": "code",
   "execution_count": null,
   "metadata": {
    "collapsed": true
   },
   "outputs": [],
   "source": []
  }
 ],
 "metadata": {
  "kernelspec": {
   "display_name": "Python 3",
   "language": "python",
   "name": "python3"
  },
  "language_info": {
   "codemirror_mode": {
    "name": "ipython",
    "version": 3
   },
   "file_extension": ".py",
   "mimetype": "text/x-python",
   "name": "python",
   "nbconvert_exporter": "python",
   "pygments_lexer": "ipython3",
   "version": "3.6.3"
  }
 },
 "nbformat": 4,
 "nbformat_minor": 2
}
